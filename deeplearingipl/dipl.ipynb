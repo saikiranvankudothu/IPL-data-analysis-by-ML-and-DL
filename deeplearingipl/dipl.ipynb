{
 "cells": [
  {
   "cell_type": "code",
   "execution_count": 1,
   "id": "ebb952f4-3be7-4aac-b835-fc25b6e7026d",
   "metadata": {},
   "outputs": [],
   "source": [
    "import pandas as pd\n",
    "import numpy as np\n",
    "import matplotlib.pyplot as plt\n",
    "import seaborn as sns\n",
    "from sklearn import preprocessing\n",
    "import keras \n",
    "import tensorflow as tf "
   ]
  },
  {
   "cell_type": "code",
   "execution_count": 2,
   "id": "e3d3694e-3c8b-4863-9bf8-dc513244d02d",
   "metadata": {},
   "outputs": [
    {
     "data": {
      "text/html": [
       "<div>\n",
       "<style scoped>\n",
       "    .dataframe tbody tr th:only-of-type {\n",
       "        vertical-align: middle;\n",
       "    }\n",
       "\n",
       "    .dataframe tbody tr th {\n",
       "        vertical-align: top;\n",
       "    }\n",
       "\n",
       "    .dataframe thead th {\n",
       "        text-align: right;\n",
       "    }\n",
       "</style>\n",
       "<table border=\"1\" class=\"dataframe\">\n",
       "  <thead>\n",
       "    <tr style=\"text-align: right;\">\n",
       "      <th></th>\n",
       "      <th>mid</th>\n",
       "      <th>date</th>\n",
       "      <th>venue</th>\n",
       "      <th>bat_team</th>\n",
       "      <th>bowl_team</th>\n",
       "      <th>batsman</th>\n",
       "      <th>bowler</th>\n",
       "      <th>runs</th>\n",
       "      <th>wickets</th>\n",
       "      <th>overs</th>\n",
       "      <th>runs_last_5</th>\n",
       "      <th>wickets_last_5</th>\n",
       "      <th>striker</th>\n",
       "      <th>non-striker</th>\n",
       "      <th>total</th>\n",
       "    </tr>\n",
       "  </thead>\n",
       "  <tbody>\n",
       "    <tr>\n",
       "      <th>0</th>\n",
       "      <td>1</td>\n",
       "      <td>2008-04-18</td>\n",
       "      <td>M Chinnaswamy Stadium</td>\n",
       "      <td>Kolkata Knight Riders</td>\n",
       "      <td>Royal Challengers Bangalore</td>\n",
       "      <td>SC Ganguly</td>\n",
       "      <td>P Kumar</td>\n",
       "      <td>1</td>\n",
       "      <td>0</td>\n",
       "      <td>0.1</td>\n",
       "      <td>1</td>\n",
       "      <td>0</td>\n",
       "      <td>0</td>\n",
       "      <td>0</td>\n",
       "      <td>222</td>\n",
       "    </tr>\n",
       "    <tr>\n",
       "      <th>1</th>\n",
       "      <td>1</td>\n",
       "      <td>2008-04-18</td>\n",
       "      <td>M Chinnaswamy Stadium</td>\n",
       "      <td>Kolkata Knight Riders</td>\n",
       "      <td>Royal Challengers Bangalore</td>\n",
       "      <td>BB McCullum</td>\n",
       "      <td>P Kumar</td>\n",
       "      <td>1</td>\n",
       "      <td>0</td>\n",
       "      <td>0.2</td>\n",
       "      <td>1</td>\n",
       "      <td>0</td>\n",
       "      <td>0</td>\n",
       "      <td>0</td>\n",
       "      <td>222</td>\n",
       "    </tr>\n",
       "    <tr>\n",
       "      <th>2</th>\n",
       "      <td>1</td>\n",
       "      <td>2008-04-18</td>\n",
       "      <td>M Chinnaswamy Stadium</td>\n",
       "      <td>Kolkata Knight Riders</td>\n",
       "      <td>Royal Challengers Bangalore</td>\n",
       "      <td>BB McCullum</td>\n",
       "      <td>P Kumar</td>\n",
       "      <td>2</td>\n",
       "      <td>0</td>\n",
       "      <td>0.2</td>\n",
       "      <td>2</td>\n",
       "      <td>0</td>\n",
       "      <td>0</td>\n",
       "      <td>0</td>\n",
       "      <td>222</td>\n",
       "    </tr>\n",
       "    <tr>\n",
       "      <th>3</th>\n",
       "      <td>1</td>\n",
       "      <td>2008-04-18</td>\n",
       "      <td>M Chinnaswamy Stadium</td>\n",
       "      <td>Kolkata Knight Riders</td>\n",
       "      <td>Royal Challengers Bangalore</td>\n",
       "      <td>BB McCullum</td>\n",
       "      <td>P Kumar</td>\n",
       "      <td>2</td>\n",
       "      <td>0</td>\n",
       "      <td>0.3</td>\n",
       "      <td>2</td>\n",
       "      <td>0</td>\n",
       "      <td>0</td>\n",
       "      <td>0</td>\n",
       "      <td>222</td>\n",
       "    </tr>\n",
       "    <tr>\n",
       "      <th>4</th>\n",
       "      <td>1</td>\n",
       "      <td>2008-04-18</td>\n",
       "      <td>M Chinnaswamy Stadium</td>\n",
       "      <td>Kolkata Knight Riders</td>\n",
       "      <td>Royal Challengers Bangalore</td>\n",
       "      <td>BB McCullum</td>\n",
       "      <td>P Kumar</td>\n",
       "      <td>2</td>\n",
       "      <td>0</td>\n",
       "      <td>0.4</td>\n",
       "      <td>2</td>\n",
       "      <td>0</td>\n",
       "      <td>0</td>\n",
       "      <td>0</td>\n",
       "      <td>222</td>\n",
       "    </tr>\n",
       "  </tbody>\n",
       "</table>\n",
       "</div>"
      ],
      "text/plain": [
       "   mid        date                  venue               bat_team  \\\n",
       "0    1  2008-04-18  M Chinnaswamy Stadium  Kolkata Knight Riders   \n",
       "1    1  2008-04-18  M Chinnaswamy Stadium  Kolkata Knight Riders   \n",
       "2    1  2008-04-18  M Chinnaswamy Stadium  Kolkata Knight Riders   \n",
       "3    1  2008-04-18  M Chinnaswamy Stadium  Kolkata Knight Riders   \n",
       "4    1  2008-04-18  M Chinnaswamy Stadium  Kolkata Knight Riders   \n",
       "\n",
       "                     bowl_team      batsman   bowler  runs  wickets  overs  \\\n",
       "0  Royal Challengers Bangalore   SC Ganguly  P Kumar     1        0    0.1   \n",
       "1  Royal Challengers Bangalore  BB McCullum  P Kumar     1        0    0.2   \n",
       "2  Royal Challengers Bangalore  BB McCullum  P Kumar     2        0    0.2   \n",
       "3  Royal Challengers Bangalore  BB McCullum  P Kumar     2        0    0.3   \n",
       "4  Royal Challengers Bangalore  BB McCullum  P Kumar     2        0    0.4   \n",
       "\n",
       "   runs_last_5  wickets_last_5  striker  non-striker  total  \n",
       "0            1               0        0            0    222  \n",
       "1            1               0        0            0    222  \n",
       "2            2               0        0            0    222  \n",
       "3            2               0        0            0    222  \n",
       "4            2               0        0            0    222  "
      ]
     },
     "execution_count": 2,
     "metadata": {},
     "output_type": "execute_result"
    }
   ],
   "source": [
    "ipl = pd.read_csv('ipl_data.csv')\n",
    "ipl.head()"
   ]
  },
  {
   "cell_type": "code",
   "execution_count": 3,
   "id": "15577555-1c0a-4679-bcf3-8ebbb66ce8e3",
   "metadata": {},
   "outputs": [],
   "source": [
    "#Dropping certain features \n",
    "df = ipl.drop(['date', 'runs', 'wickets', 'overs', 'runs_last_5', 'wickets_last_5','mid', 'striker', 'non-striker'], axis =1)\n"
   ]
  },
  {
   "cell_type": "code",
   "execution_count": 4,
   "id": "b2c6290a-83fd-4533-b583-7a932badc6a3",
   "metadata": {},
   "outputs": [],
   "source": [
    "X = df.drop(['total'], axis =1)\n",
    "y = df['total']\n"
   ]
  },
  {
   "cell_type": "code",
   "execution_count": 5,
   "id": "53fbaab1-2755-4822-ac60-9c9feae3bb1a",
   "metadata": {},
   "outputs": [],
   "source": [
    "#Label Encoding\n",
    "\n",
    "from sklearn.preprocessing import LabelEncoder\n",
    "\n",
    "# Create a LabelEncoder object for each categorical feature\n",
    "venue_encoder = LabelEncoder()\n",
    "batting_team_encoder = LabelEncoder()\n",
    "bowling_team_encoder = LabelEncoder()\n",
    "striker_encoder = LabelEncoder()\n",
    "bowler_encoder = LabelEncoder()\n",
    "\n",
    "# Fit and transform the categorical features with label encoding\n",
    "X['venue'] = venue_encoder.fit_transform(X['venue'])\n",
    "X['bat_team'] = batting_team_encoder.fit_transform(X['bat_team'])\n",
    "X['bowl_team'] = bowling_team_encoder.fit_transform(X['bowl_team'])\n",
    "X['batsman'] = striker_encoder.fit_transform(X['batsman'])\n",
    "X['bowler'] = bowler_encoder.fit_transform(X['bowler'])\n"
   ]
  },
  {
   "cell_type": "code",
   "execution_count": 6,
   "id": "9b7867ce-08ba-42dc-92b8-6d5455e186c9",
   "metadata": {},
   "outputs": [],
   "source": [
    "# Train test Split \n",
    "from sklearn.model_selection import train_test_split\n",
    "X_train, X_test, y_train, y_test = train_test_split(X, y, test_size=0.3, random_state=42)\n"
   ]
  },
  {
   "cell_type": "code",
   "execution_count": 7,
   "id": "75fe1edc-9dfd-4e1c-b64c-94828effadee",
   "metadata": {},
   "outputs": [],
   "source": [
    "from sklearn.preprocessing import MinMaxScaler\n",
    "\n",
    "scaler = MinMaxScaler()\n",
    "\n",
    "# Fit the scaler on the training data and transform both training and testing data\n",
    "X_train_scaled = scaler.fit_transform(X_train)\n",
    "X_test_scaled = scaler.transform(X_test)\n"
   ]
  },
  {
   "cell_type": "code",
   "execution_count": 8,
   "id": "d6a99507-205e-47b0-8a49-53643ac9cb3b",
   "metadata": {},
   "outputs": [],
   "source": [
    "# Define the neural network model\n",
    "model = keras.Sequential([\n",
    "    keras.layers.Input( shape=(X_train_scaled.shape[1],)),  # Input layer\n",
    "    keras.layers.Dense(512, activation='relu'),  # Hidden layer with 512 units and ReLU activation\n",
    "    keras.layers.Dense(216, activation='relu'),  # Hidden layer with 216 units and ReLU activation\n",
    "    keras.layers.Dense(1, activation='linear')  # Output layer with linear activation for regression\n",
    "])\n",
    "\n",
    "# Compile the model with Huber loss\n",
    "huber_loss = tf.keras.losses.Huber(delta=1.0)  # You can adjust the 'delta' parameter as needed\n",
    "model.compile(optimizer='adam', loss=huber_loss)  # Use Huber loss for regression\n"
   ]
  },
  {
   "cell_type": "code",
   "execution_count": 9,
   "id": "e45711b3-10ca-47e5-aac7-8c0d6195dac8",
   "metadata": {},
   "outputs": [
    {
     "name": "stdout",
     "output_type": "stream",
     "text": [
      "Epoch 1/50\n",
      "832/832 [==============================] - 2s 2ms/step - loss: 32.3909 - val_loss: 22.3131\n",
      "Epoch 2/50\n",
      "832/832 [==============================] - 1s 2ms/step - loss: 22.3144 - val_loss: 21.9609\n",
      "Epoch 3/50\n",
      "832/832 [==============================] - 1s 2ms/step - loss: 22.2580 - val_loss: 23.3178\n",
      "Epoch 4/50\n",
      "832/832 [==============================] - 1s 2ms/step - loss: 22.2091 - val_loss: 21.7910\n",
      "Epoch 5/50\n",
      "832/832 [==============================] - 1s 2ms/step - loss: 22.0789 - val_loss: 21.7300\n",
      "Epoch 6/50\n",
      "832/832 [==============================] - 1s 2ms/step - loss: 21.9994 - val_loss: 21.8630\n",
      "Epoch 7/50\n",
      "832/832 [==============================] - 1s 2ms/step - loss: 21.9234 - val_loss: 21.6857\n",
      "Epoch 8/50\n",
      "832/832 [==============================] - 1s 2ms/step - loss: 21.8701 - val_loss: 21.6413\n",
      "Epoch 9/50\n",
      "832/832 [==============================] - 1s 2ms/step - loss: 21.8131 - val_loss: 21.7112\n",
      "Epoch 10/50\n",
      "832/832 [==============================] - 1s 2ms/step - loss: 21.7850 - val_loss: 21.5061\n",
      "Epoch 11/50\n",
      "832/832 [==============================] - 1s 2ms/step - loss: 21.7299 - val_loss: 21.4759\n",
      "Epoch 12/50\n",
      "832/832 [==============================] - 1s 2ms/step - loss: 21.7117 - val_loss: 21.5546\n",
      "Epoch 13/50\n",
      "832/832 [==============================] - 1s 2ms/step - loss: 21.7182 - val_loss: 21.4569\n",
      "Epoch 14/50\n",
      "832/832 [==============================] - 1s 2ms/step - loss: 21.6740 - val_loss: 21.4009\n",
      "Epoch 15/50\n",
      "832/832 [==============================] - 1s 2ms/step - loss: 21.6910 - val_loss: 21.4794\n",
      "Epoch 16/50\n",
      "832/832 [==============================] - 1s 2ms/step - loss: 21.6533 - val_loss: 21.3748\n",
      "Epoch 17/50\n",
      "832/832 [==============================] - 1s 2ms/step - loss: 21.6219 - val_loss: 22.0408\n",
      "Epoch 18/50\n",
      "832/832 [==============================] - 1s 2ms/step - loss: 21.6146 - val_loss: 21.6707\n",
      "Epoch 19/50\n",
      "832/832 [==============================] - 1s 2ms/step - loss: 21.5869 - val_loss: 21.4032\n",
      "Epoch 20/50\n",
      "832/832 [==============================] - 1s 2ms/step - loss: 21.5679 - val_loss: 21.3161\n",
      "Epoch 21/50\n",
      "832/832 [==============================] - 1s 2ms/step - loss: 21.5108 - val_loss: 21.2496\n",
      "Epoch 22/50\n",
      "832/832 [==============================] - 1s 2ms/step - loss: 21.5416 - val_loss: 21.2326\n",
      "Epoch 23/50\n",
      "832/832 [==============================] - 1s 2ms/step - loss: 21.4541 - val_loss: 21.1949\n",
      "Epoch 24/50\n",
      "832/832 [==============================] - 1s 2ms/step - loss: 21.4347 - val_loss: 21.0962\n",
      "Epoch 25/50\n",
      "832/832 [==============================] - 1s 2ms/step - loss: 21.3506 - val_loss: 21.3337\n",
      "Epoch 26/50\n",
      "832/832 [==============================] - 1s 2ms/step - loss: 21.2765 - val_loss: 21.1004\n",
      "Epoch 27/50\n",
      "832/832 [==============================] - 1s 2ms/step - loss: 21.2223 - val_loss: 20.9452\n",
      "Epoch 28/50\n",
      "832/832 [==============================] - 1s 2ms/step - loss: 21.1447 - val_loss: 21.0299\n",
      "Epoch 29/50\n",
      "832/832 [==============================] - 1s 2ms/step - loss: 21.1085 - val_loss: 21.1242\n",
      "Epoch 30/50\n",
      "832/832 [==============================] - 1s 2ms/step - loss: 21.0722 - val_loss: 20.7905\n",
      "Epoch 31/50\n",
      "832/832 [==============================] - 1s 2ms/step - loss: 20.9551 - val_loss: 20.7389\n",
      "Epoch 32/50\n",
      "832/832 [==============================] - 1s 2ms/step - loss: 20.8640 - val_loss: 21.1030\n",
      "Epoch 33/50\n",
      "832/832 [==============================] - 1s 2ms/step - loss: 20.8246 - val_loss: 20.5584\n",
      "Epoch 34/50\n",
      "832/832 [==============================] - 2s 2ms/step - loss: 20.7200 - val_loss: 20.4346\n",
      "Epoch 35/50\n",
      "832/832 [==============================] - 1s 2ms/step - loss: 20.5754 - val_loss: 20.2963\n",
      "Epoch 36/50\n",
      "832/832 [==============================] - 2s 2ms/step - loss: 20.4230 - val_loss: 20.2058\n",
      "Epoch 37/50\n",
      "832/832 [==============================] - 1s 2ms/step - loss: 20.3567 - val_loss: 20.0320\n",
      "Epoch 38/50\n",
      "832/832 [==============================] - 1s 2ms/step - loss: 20.1784 - val_loss: 19.8684\n",
      "Epoch 39/50\n",
      "832/832 [==============================] - 1s 2ms/step - loss: 20.0809 - val_loss: 20.1673\n",
      "Epoch 40/50\n",
      "832/832 [==============================] - 1s 2ms/step - loss: 19.9338 - val_loss: 19.7470\n",
      "Epoch 41/50\n",
      "832/832 [==============================] - 2s 2ms/step - loss: 19.8513 - val_loss: 19.7889\n",
      "Epoch 42/50\n",
      "832/832 [==============================] - 1s 2ms/step - loss: 19.7434 - val_loss: 19.4691\n",
      "Epoch 43/50\n",
      "832/832 [==============================] - 1s 2ms/step - loss: 19.6433 - val_loss: 19.3271\n",
      "Epoch 44/50\n",
      "832/832 [==============================] - 1s 2ms/step - loss: 19.5944 - val_loss: 19.2675\n",
      "Epoch 45/50\n",
      "832/832 [==============================] - 1s 2ms/step - loss: 19.4534 - val_loss: 19.2104\n",
      "Epoch 46/50\n",
      "832/832 [==============================] - 1s 2ms/step - loss: 19.3675 - val_loss: 19.8773\n",
      "Epoch 47/50\n",
      "832/832 [==============================] - 1s 2ms/step - loss: 19.3906 - val_loss: 18.9770\n",
      "Epoch 48/50\n",
      "832/832 [==============================] - 1s 2ms/step - loss: 19.2308 - val_loss: 19.2876\n",
      "Epoch 49/50\n",
      "832/832 [==============================] - 1s 2ms/step - loss: 19.1527 - val_loss: 19.4805\n",
      "Epoch 50/50\n",
      "832/832 [==============================] - 1s 2ms/step - loss: 19.1267 - val_loss: 19.0073\n"
     ]
    },
    {
     "data": {
      "text/plain": [
       "<keras.callbacks.History at 0x22cadbcbfd0>"
      ]
     },
     "execution_count": 9,
     "metadata": {},
     "output_type": "execute_result"
    }
   ],
   "source": [
    "# Train the model\n",
    "model.fit(X_train_scaled, y_train, epochs=50, batch_size=64, validation_data=(X_test_scaled, y_test))\n"
   ]
  },
  {
   "cell_type": "code",
   "execution_count": 10,
   "id": "9005b581-2f1b-432d-bbaf-0a25805c5fd7",
   "metadata": {},
   "outputs": [
    {
     "data": {
      "text/plain": [
       "<Axes: >"
      ]
     },
     "execution_count": 10,
     "metadata": {},
     "output_type": "execute_result"
    },
    {
     "data": {
      "image/png": "[encoded data removed]",
      "text/plain": [
       "<Figure size 640x480 with 1 Axes>"
      ]
     },
     "metadata": {},
     "output_type": "display_data"
    }
   ],
   "source": [
    "model_losses = pd.DataFrame(model.history.history)\n",
    "model_losses.plot()"
   ]
  },
  {
   "cell_type": "code",
   "execution_count": 11,
   "id": "ce0fb37c-a6a1-4e53-b865-7d09893e37c8",
   "metadata": {},
   "outputs": [
    {
     "name": "stdout",
     "output_type": "stream",
     "text": [
      "713/713 [==============================] - 1s 785us/step\n"
     ]
    },
    {
     "data": {
      "text/plain": [
       "19.49912202312768"
      ]
     },
     "execution_count": 11,
     "metadata": {},
     "output_type": "execute_result"
    }
   ],
   "source": [
    "# Make predictions\n",
    "predictions = model.predict(X_test_scaled)\n",
    "\n",
    "from sklearn.metrics import mean_absolute_error,mean_squared_error\n",
    "mean_absolute_error(y_test,predictions)\n"
   ]
  },
  {
   "cell_type": "code",
   "execution_count": 12,
   "id": "9e215596-0162-4b04-bb7b-ae807cfad88b",
   "metadata": {},
   "outputs": [
    {
     "name": "stdout",
     "output_type": "stream",
     "text": [
      "Requirement already satisfied: ipywidgets in c:\\users\\saiki\\appdata\\local\\anaconda3\\envs\\tensorflow\\lib\\site-packages (8.1.3)Note: you may need to restart the kernel to use updated packages.\n",
      "\n",
      "Requirement already satisfied: comm>=0.1.3 in c:\\users\\saiki\\appdata\\local\\anaconda3\\envs\\tensorflow\\lib\\site-packages (from ipywidgets) (0.2.1)\n",
      "Requirement already satisfied: ipython>=6.1.0 in c:\\users\\saiki\\appdata\\local\\anaconda3\\envs\\tensorflow\\lib\\site-packages (from ipywidgets) (8.25.0)\n",
      "Requirement already satisfied: traitlets>=4.3.1 in c:\\users\\saiki\\appdata\\local\\anaconda3\\envs\\tensorflow\\lib\\site-packages (from ipywidgets) (5.14.3)\n",
      "Requirement already satisfied: widgetsnbextension~=4.0.11 in c:\\users\\saiki\\appdata\\local\\anaconda3\\envs\\tensorflow\\lib\\site-packages (from ipywidgets) (4.0.11)\n",
      "Requirement already satisfied: jupyterlab-widgets~=3.0.11 in c:\\users\\saiki\\appdata\\local\\anaconda3\\envs\\tensorflow\\lib\\site-packages (from ipywidgets) (3.0.11)\n",
      "Requirement already satisfied: decorator in c:\\users\\saiki\\appdata\\local\\anaconda3\\envs\\tensorflow\\lib\\site-packages (from ipython>=6.1.0->ipywidgets) (5.1.1)\n",
      "Requirement already satisfied: jedi>=0.16 in c:\\users\\saiki\\appdata\\local\\anaconda3\\envs\\tensorflow\\lib\\site-packages (from ipython>=6.1.0->ipywidgets) (0.18.1)\n",
      "Requirement already satisfied: matplotlib-inline in c:\\users\\saiki\\appdata\\local\\anaconda3\\envs\\tensorflow\\lib\\site-packages (from ipython>=6.1.0->ipywidgets) (0.1.6)\n",
      "Requirement already satisfied: prompt-toolkit<3.1.0,>=3.0.41 in c:\\users\\saiki\\appdata\\local\\anaconda3\\envs\\tensorflow\\lib\\site-packages (from ipython>=6.1.0->ipywidgets) (3.0.43)\n",
      "Requirement already satisfied: pygments>=2.4.0 in c:\\users\\saiki\\appdata\\local\\anaconda3\\envs\\tensorflow\\lib\\site-packages (from ipython>=6.1.0->ipywidgets) (2.15.1)\n",
      "Requirement already satisfied: stack-data in c:\\users\\saiki\\appdata\\local\\anaconda3\\envs\\tensorflow\\lib\\site-packages (from ipython>=6.1.0->ipywidgets) (0.2.0)\n",
      "Requirement already satisfied: exceptiongroup in c:\\users\\saiki\\appdata\\local\\anaconda3\\envs\\tensorflow\\lib\\site-packages (from ipython>=6.1.0->ipywidgets) (1.2.0)\n",
      "Requirement already satisfied: typing-extensions>=4.6 in c:\\users\\saiki\\appdata\\local\\anaconda3\\envs\\tensorflow\\lib\\site-packages (from ipython>=6.1.0->ipywidgets) (4.11.0)\n",
      "Requirement already satisfied: colorama in c:\\users\\saiki\\appdata\\local\\anaconda3\\envs\\tensorflow\\lib\\site-packages (from ipython>=6.1.0->ipywidgets) (0.4.6)\n",
      "Requirement already satisfied: parso<0.9.0,>=0.8.0 in c:\\users\\saiki\\appdata\\local\\anaconda3\\envs\\tensorflow\\lib\\site-packages (from jedi>=0.16->ipython>=6.1.0->ipywidgets) (0.8.3)\n",
      "Requirement already satisfied: wcwidth in c:\\users\\saiki\\appdata\\local\\anaconda3\\envs\\tensorflow\\lib\\site-packages (from prompt-toolkit<3.1.0,>=3.0.41->ipython>=6.1.0->ipywidgets) (0.2.5)\n",
      "Requirement already satisfied: executing in c:\\users\\saiki\\appdata\\local\\anaconda3\\envs\\tensorflow\\lib\\site-packages (from stack-data->ipython>=6.1.0->ipywidgets) (0.8.3)\n",
      "Requirement already satisfied: asttokens in c:\\users\\saiki\\appdata\\local\\anaconda3\\envs\\tensorflow\\lib\\site-packages (from stack-data->ipython>=6.1.0->ipywidgets) (2.0.5)\n",
      "Requirement already satisfied: pure-eval in c:\\users\\saiki\\appdata\\local\\anaconda3\\envs\\tensorflow\\lib\\site-packages (from stack-data->ipython>=6.1.0->ipywidgets) (0.2.2)\n",
      "Requirement already satisfied: six in c:\\users\\saiki\\appdata\\local\\anaconda3\\envs\\tensorflow\\lib\\site-packages (from asttokens->stack-data->ipython>=6.1.0->ipywidgets) (1.16.0)\n"
     ]
    }
   ],
   "source": [
    "pip install ipywidgets"
   ]
  },
  {
   "cell_type": "code",
   "execution_count": 14,
   "id": "3f45557d-c225-4e2b-8243-0d667302ad7b",
   "metadata": {},
   "outputs": [],
   "source": [
    "import ipywidgets as widgets\n",
    "from IPython.display import display, clear_output\n",
    "\n",
    "import warnings\n",
    "warnings.filterwarnings(\"ignore\")\n",
    "\n",
    "venue = widgets.Dropdown(options=df['venue'].unique().tolist(),description='Select Venue:')\n",
    "batting_team = widgets.Dropdown(options =df['bat_team'].unique().tolist(),  description='Select Batting Team:')\n",
    "bowling_team = widgets.Dropdown(options=df['bowl_team'].unique().tolist(),  description='Select Batting Team:')\n",
    "striker = widgets.Dropdown(options=df['batsman'].unique().tolist(), description='Select Striker:')\n",
    "bowler = widgets.Dropdown(options=df['bowler'].unique().tolist(), description='Select Bowler:')\n",
    "\n",
    "predict_button = widgets.Button(description=\"Predict Score\")\n",
    "\n",
    "def predict_score(b):\n",
    "    with output:\n",
    "        clear_output()  # Clear the previous output\n",
    "        \n",
    "\n",
    "        # Decode the encoded values back to their original values\n",
    "        decoded_venue = venue_encoder.transform([venue.value])\n",
    "        decoded_batting_team = batting_team_encoder.transform([batting_team.value])\n",
    "        decoded_bowling_team = bowling_team_encoder.transform([bowling_team.value])\n",
    "        decoded_striker = striker_encoder.transform([striker.value])\n",
    "        decoded_bowler = bowler_encoder.transform([bowler.value])\n",
    "\n",
    "\n",
    "        input = np.array([decoded_venue,  decoded_batting_team, decoded_bowling_team,decoded_striker, decoded_bowler])\n",
    "        input = input.reshape(1,5)\n",
    "        input = scaler.transform(input)\n",
    "        #print(input)\n",
    "        predicted_score = model.predict(input)\n",
    "        predicted_score = int(predicted_score[0,0])\n",
    "\n",
    "        print(predicted_score)"
   ]
  },
  {
   "cell_type": "code",
   "execution_count": 15,
   "id": "ea463196-4271-4c6e-ba11-2ec6703688d1",
   "metadata": {},
   "outputs": [
    {
     "data": {
      "application/vnd.jupyter.widget-view+json": {
       "model_id": "cf8f3ed7b0554edd9d9930738a32ef21",
       "version_major": 2,
       "version_minor": 0
      },
      "text/plain": [
       "Dropdown(description='Select Venue:', options=('M Chinnaswamy Stadium', 'Punjab Cricket Association Stadium, M…"
      ]
     },
     "metadata": {},
     "output_type": "display_data"
    },
    {
     "data": {
      "application/vnd.jupyter.widget-view+json": {
       "model_id": "6f443855b854499080b0a2eea8d90276",
       "version_major": 2,
       "version_minor": 0
      },
      "text/plain": [
       "Dropdown(description='Select Batting Team:', options=('Kolkata Knight Riders', 'Chennai Super Kings', 'Rajasth…"
      ]
     },
     "metadata": {},
     "output_type": "display_data"
    },
    {
     "data": {
      "application/vnd.jupyter.widget-view+json": {
       "model_id": "cb4b6673243144a6831b4bad91e5a36b",
       "version_major": 2,
       "version_minor": 0
      },
      "text/plain": [
       "Dropdown(description='Select Batting Team:', options=('Royal Challengers Bangalore', 'Kings XI Punjab', 'Delhi…"
      ]
     },
     "metadata": {},
     "output_type": "display_data"
    },
    {
     "data": {
      "application/vnd.jupyter.widget-view+json": {
       "model_id": "d63c86dfbd5e46d4a34342d5ac3269d1",
       "version_major": 2,
       "version_minor": 0
      },
      "text/plain": [
       "Dropdown(description='Select Striker:', options=('SC Ganguly', 'BB McCullum', 'RT Ponting', 'DJ Hussey', 'Moha…"
      ]
     },
     "metadata": {},
     "output_type": "display_data"
    },
    {
     "data": {
      "application/vnd.jupyter.widget-view+json": {
       "model_id": "7b5db53d21dc4a9998d973880ea57f33",
       "version_major": 2,
       "version_minor": 0
      },
      "text/plain": [
       "Dropdown(description='Select Bowler:', options=('P Kumar', 'Z Khan', 'AA Noffke', 'JH Kallis', 'SB Joshi', 'CL…"
      ]
     },
     "metadata": {},
     "output_type": "display_data"
    },
    {
     "data": {
      "application/vnd.jupyter.widget-view+json": {
       "model_id": "115a9cd5a4684ca9b88dc6d8811bc846",
       "version_major": 2,
       "version_minor": 0
      },
      "text/plain": [
       "Button(description='Predict Score', style=ButtonStyle())"
      ]
     },
     "metadata": {},
     "output_type": "display_data"
    },
    {
     "data": {
      "application/vnd.jupyter.widget-view+json": {
       "model_id": "55236621f088428e83462f1c28f75933",
       "version_major": 2,
       "version_minor": 0
      },
      "text/plain": [
       "Output()"
      ]
     },
     "metadata": {},
     "output_type": "display_data"
    }
   ],
   "source": [
    "predict_button.on_click(predict_score)\n",
    "output = widgets.Output()\n",
    "display(venue, batting_team, bowling_team, striker, bowler, predict_button, output)"
   ]
  },
  {
   "cell_type": "code",
   "execution_count": null,
   "id": "23ecdc6a-df5a-4fee-ba83-c9551a0a1a3b",
   "metadata": {},
   "outputs": [],
   "source": []
  },
  {
   "cell_type": "code",
   "execution_count": null,
   "id": "0bd6a7fa-844c-432f-9ab7-1465302dfc89",
   "metadata": {},
   "outputs": [],
   "source": []
  }
 ],
 "metadata": {
  "kernelspec": {
   "display_name": "Python 3 (ipykernel)",
   "language": "python",
   "name": "python3"
  },
  "language_info": {
   "codemirror_mode": {
    "name": "ipython",
    "version": 3
   },
   "file_extension": ".py",
   "mimetype": "text/x-python",
   "name": "python",
   "nbconvert_exporter": "python",
   "pygments_lexer": "ipython3",
   "version": "3.10.13"
  }
 },
 "nbformat": 4,
 "nbformat_minor": 5
}
